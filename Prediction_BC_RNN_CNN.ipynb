{
 "cells": [
  {
   "cell_type": "code",
   "execution_count": 2,
   "metadata": {},
   "outputs": [],
   "source": [
    "import pandas as pd\n",
    "from sklearn.preprocessing import MinMaxScaler\n",
    "import matplotlib.pyplot as plt"
   ]
  },
  {
   "cell_type": "code",
   "execution_count": 3,
   "metadata": {},
   "outputs": [],
   "source": [
    "data = pd.read_csv('gemini_BTCUSD_2020_1min.csv')"
   ]
  },
  {
   "cell_type": "markdown",
   "metadata": {},
   "source": [
    "BTC-2017min.csv contains all the 1 Minute historical data of 2020, this dataset contains columns including Unix Timestamp, dates, Symbol, opening, high, low, closing, Volume (Crypto) and Volume Base Ccy. code up your first kernel: LSTMs and Deep Reinforcement Learning agents works well for this dataset. Don't forget to up-vote 👍 **Currency in BTC-USD\n",
    "<br>\n",
    "About each Column:\n",
    "<ul>\n",
    "<li>Unix Timestamp - This is the unix timestamp or also known as \"Epoch Time\". Use this to convert to your local timezone</li>\n",
    "<li>Date - This timestamp is UTC Timezone</li>\n",
    "<li>Symbol - The symbol for which the timeseries data refers</li>\n",
    "<li>Open - This is the opening price of the time period</li>\n",
    "<li>High - This is the highest price of the time period</li>\n",
    "<li>Low - This is the lowest price of the time period</li>\n",
    "<li>Close - This is the closing price of the time period</li>\n",
    "<li>Volume (Crypto) - This is the volume in the transacted Ccy. Ie. For BTC/USDT, this is in BTC amount</li>\n",
    "\n",
    "</ul>\n"
   ]
  },
  {
   "cell_type": "code",
   "execution_count": 4,
   "metadata": {},
   "outputs": [
    {
     "data": {
      "text/html": [
       "<div>\n",
       "<style scoped>\n",
       "    .dataframe tbody tr th:only-of-type {\n",
       "        vertical-align: middle;\n",
       "    }\n",
       "\n",
       "    .dataframe tbody tr th {\n",
       "        vertical-align: top;\n",
       "    }\n",
       "\n",
       "    .dataframe thead th {\n",
       "        text-align: right;\n",
       "    }\n",
       "</style>\n",
       "<table border=\"1\" class=\"dataframe\">\n",
       "  <thead>\n",
       "    <tr style=\"text-align: right;\">\n",
       "      <th></th>\n",
       "      <th>Unix Timestamp</th>\n",
       "      <th>Date</th>\n",
       "      <th>Symbol</th>\n",
       "      <th>Open</th>\n",
       "      <th>High</th>\n",
       "      <th>Low</th>\n",
       "      <th>Close</th>\n",
       "      <th>Volume</th>\n",
       "    </tr>\n",
       "  </thead>\n",
       "  <tbody>\n",
       "    <tr>\n",
       "      <th>0</th>\n",
       "      <td>1.618880e+12</td>\n",
       "      <td>4/20/2021 0:02</td>\n",
       "      <td>BTCUSD</td>\n",
       "      <td>55717.47</td>\n",
       "      <td>55723.00</td>\n",
       "      <td>55541.69</td>\n",
       "      <td>55541.69</td>\n",
       "      <td>2.406734</td>\n",
       "    </tr>\n",
       "    <tr>\n",
       "      <th>1</th>\n",
       "      <td>1.618880e+12</td>\n",
       "      <td>4/20/2021 0:01</td>\n",
       "      <td>BTCUSD</td>\n",
       "      <td>55768.94</td>\n",
       "      <td>55849.82</td>\n",
       "      <td>55711.74</td>\n",
       "      <td>55717.47</td>\n",
       "      <td>0.573458</td>\n",
       "    </tr>\n",
       "    <tr>\n",
       "      <th>2</th>\n",
       "      <td>1.618880e+12</td>\n",
       "      <td>4/20/2021 0:00</td>\n",
       "      <td>BTCUSD</td>\n",
       "      <td>55691.79</td>\n",
       "      <td>55793.15</td>\n",
       "      <td>55691.79</td>\n",
       "      <td>55768.94</td>\n",
       "      <td>3.309904</td>\n",
       "    </tr>\n",
       "    <tr>\n",
       "      <th>3</th>\n",
       "      <td>1.618880e+12</td>\n",
       "      <td>4/19/2021 23:59</td>\n",
       "      <td>BTCUSD</td>\n",
       "      <td>55777.86</td>\n",
       "      <td>55777.86</td>\n",
       "      <td>55677.92</td>\n",
       "      <td>55691.79</td>\n",
       "      <td>0.684934</td>\n",
       "    </tr>\n",
       "    <tr>\n",
       "      <th>4</th>\n",
       "      <td>1.618880e+12</td>\n",
       "      <td>4/19/2021 23:58</td>\n",
       "      <td>BTCUSD</td>\n",
       "      <td>55803.50</td>\n",
       "      <td>55823.88</td>\n",
       "      <td>55773.08</td>\n",
       "      <td>55777.86</td>\n",
       "      <td>0.477225</td>\n",
       "    </tr>\n",
       "  </tbody>\n",
       "</table>\n",
       "</div>"
      ],
      "text/plain": [
       "   Unix Timestamp             Date  Symbol      Open      High       Low  \\\n",
       "0    1.618880e+12   4/20/2021 0:02  BTCUSD  55717.47  55723.00  55541.69   \n",
       "1    1.618880e+12   4/20/2021 0:01  BTCUSD  55768.94  55849.82  55711.74   \n",
       "2    1.618880e+12   4/20/2021 0:00  BTCUSD  55691.79  55793.15  55691.79   \n",
       "3    1.618880e+12  4/19/2021 23:59  BTCUSD  55777.86  55777.86  55677.92   \n",
       "4    1.618880e+12  4/19/2021 23:58  BTCUSD  55803.50  55823.88  55773.08   \n",
       "\n",
       "      Close    Volume  \n",
       "0  55541.69  2.406734  \n",
       "1  55717.47  0.573458  \n",
       "2  55768.94  3.309904  \n",
       "3  55691.79  0.684934  \n",
       "4  55777.86  0.477225  "
      ]
     },
     "execution_count": 4,
     "metadata": {},
     "output_type": "execute_result"
    }
   ],
   "source": [
    "data.head()"
   ]
  },
  {
   "cell_type": "code",
   "execution_count": 5,
   "metadata": {},
   "outputs": [],
   "source": [
    "data = data.iloc[: , 3:]"
   ]
  },
  {
   "cell_type": "code",
   "execution_count": 6,
   "metadata": {},
   "outputs": [
    {
     "data": {
      "text/html": [
       "<div>\n",
       "<style scoped>\n",
       "    .dataframe tbody tr th:only-of-type {\n",
       "        vertical-align: middle;\n",
       "    }\n",
       "\n",
       "    .dataframe tbody tr th {\n",
       "        vertical-align: top;\n",
       "    }\n",
       "\n",
       "    .dataframe thead th {\n",
       "        text-align: right;\n",
       "    }\n",
       "</style>\n",
       "<table border=\"1\" class=\"dataframe\">\n",
       "  <thead>\n",
       "    <tr style=\"text-align: right;\">\n",
       "      <th></th>\n",
       "      <th>Open</th>\n",
       "      <th>High</th>\n",
       "      <th>Low</th>\n",
       "      <th>Close</th>\n",
       "      <th>Volume</th>\n",
       "    </tr>\n",
       "  </thead>\n",
       "  <tbody>\n",
       "    <tr>\n",
       "      <th>0</th>\n",
       "      <td>55717.47</td>\n",
       "      <td>55723.00</td>\n",
       "      <td>55541.69</td>\n",
       "      <td>55541.69</td>\n",
       "      <td>2.406734</td>\n",
       "    </tr>\n",
       "    <tr>\n",
       "      <th>1</th>\n",
       "      <td>55768.94</td>\n",
       "      <td>55849.82</td>\n",
       "      <td>55711.74</td>\n",
       "      <td>55717.47</td>\n",
       "      <td>0.573458</td>\n",
       "    </tr>\n",
       "    <tr>\n",
       "      <th>2</th>\n",
       "      <td>55691.79</td>\n",
       "      <td>55793.15</td>\n",
       "      <td>55691.79</td>\n",
       "      <td>55768.94</td>\n",
       "      <td>3.309904</td>\n",
       "    </tr>\n",
       "    <tr>\n",
       "      <th>3</th>\n",
       "      <td>55777.86</td>\n",
       "      <td>55777.86</td>\n",
       "      <td>55677.92</td>\n",
       "      <td>55691.79</td>\n",
       "      <td>0.684934</td>\n",
       "    </tr>\n",
       "    <tr>\n",
       "      <th>4</th>\n",
       "      <td>55803.50</td>\n",
       "      <td>55823.88</td>\n",
       "      <td>55773.08</td>\n",
       "      <td>55777.86</td>\n",
       "      <td>0.477225</td>\n",
       "    </tr>\n",
       "  </tbody>\n",
       "</table>\n",
       "</div>"
      ],
      "text/plain": [
       "       Open      High       Low     Close    Volume\n",
       "0  55717.47  55723.00  55541.69  55541.69  2.406734\n",
       "1  55768.94  55849.82  55711.74  55717.47  0.573458\n",
       "2  55691.79  55793.15  55691.79  55768.94  3.309904\n",
       "3  55777.86  55777.86  55677.92  55691.79  0.684934\n",
       "4  55803.50  55823.88  55773.08  55777.86  0.477225"
      ]
     },
     "execution_count": 6,
     "metadata": {},
     "output_type": "execute_result"
    }
   ],
   "source": [
    "data.head()"
   ]
  },
  {
   "cell_type": "code",
   "execution_count": 7,
   "metadata": {},
   "outputs": [
    {
     "data": {
      "text/plain": [
       "(658065, 5)"
      ]
     },
     "execution_count": 7,
     "metadata": {},
     "output_type": "execute_result"
    }
   ],
   "source": [
    "data.shape"
   ]
  },
  {
   "cell_type": "code",
   "execution_count": 8,
   "metadata": {},
   "outputs": [],
   "source": [
    "scaler = MinMaxScaler().fit(data)"
   ]
  },
  {
   "cell_type": "code",
   "execution_count": 9,
   "metadata": {},
   "outputs": [],
   "source": [
    "Data = scaler.transform(data)"
   ]
  },
  {
   "cell_type": "code",
   "execution_count": 10,
   "metadata": {},
   "outputs": [
    {
     "data": {
      "text/plain": [
       "(658065, 5)"
      ]
     },
     "execution_count": 10,
     "metadata": {},
     "output_type": "execute_result"
    }
   ],
   "source": [
    "Data.shape"
   ]
  },
  {
   "cell_type": "code",
   "execution_count": 11,
   "metadata": {},
   "outputs": [],
   "source": [
    "import torch\n",
    "import torch.nn as nn\n",
    "import torch.nn.functional as F\n",
    "from torch.utils.data import Dataset, DataLoader\n",
    "import numpy as np"
   ]
  },
  {
   "cell_type": "code",
   "execution_count": 12,
   "metadata": {},
   "outputs": [],
   "source": [
    "class Data_Gen(Dataset):\n",
    "    def __init__(self, data, window, prediction, step,min_index, max_index):\n",
    "        self.data = data\n",
    "        self.window = window\n",
    "        self.prediction = prediction\n",
    "        self.step = step\n",
    "        self.min_index = min_index\n",
    "        self.max_index = max_index\n",
    "    def __len__(self):\n",
    "        return (self.max_index - self.min_index - self.window - self.prediction - 1)\n",
    "    def __getitem__(self, index):\n",
    "        start_index = index + self.min_index\n",
    "        end_index = start_index + self.window\n",
    "        indices = range(start_index, end_index, self.step)\n",
    "\n",
    "        samples = np.zeros((len(indices), 4))  # Assuming 4 features (columns)\n",
    "        \n",
    "        for j, idx in enumerate(indices):\n",
    "            samples[j] = self.data[idx, 1:]  # Features from columns 1 onward\n",
    "        \n",
    "        targets = self.data[idx + self.prediction, 0]  # Target is column 0\n",
    "        samples = torch.from_numpy(samples).float()\n",
    "        targets = torch.tensor(targets, dtype=torch.float32)  # Convert scalar to tensor\n",
    "\n",
    "        return samples, targets"
   ]
  },
  {
   "cell_type": "code",
   "execution_count": 13,
   "metadata": {},
   "outputs": [],
   "source": [
    "window = 1440\n",
    "predcition = 10\n",
    "step = 1\n",
    "batch = 32\n"
   ]
  },
  {
   "cell_type": "code",
   "execution_count": 14,
   "metadata": {},
   "outputs": [],
   "source": [
    "Train_dataset = Data_Gen(data = Data, window =window, prediction = predcition,step= step, min_index =200000, max_index=300000)\n",
    "Val_dataset = Data_Gen(data = Data, window =window, prediction = predcition,step= step, min_index =300000, max_index=400000)\n",
    "Test_dataset = Data_Gen(data = Data, window =window, prediction = predcition,step= step, min_index = 400001,max_index= 500000)"
   ]
  },
  {
   "cell_type": "code",
   "execution_count": 15,
   "metadata": {},
   "outputs": [],
   "source": [
    "Train_loader = DataLoader(Train_dataset, batch_size = batch, shuffle = True)\n",
    "Val_loader = DataLoader(Val_dataset, batch_size = batch, shuffle = True)\n",
    "Test_loader = DataLoader(Test_dataset, batch_size = batch, shuffle = True)"
   ]
  },
  {
   "cell_type": "code",
   "execution_count": 16,
   "metadata": {},
   "outputs": [],
   "source": [
    "class RNN1(nn.Module):\n",
    "    def __init__(self):\n",
    "        super(RNN1, self).__init__()\n",
    "        self.gru1 = nn.GRU(4, 32, batch_first=True, bidirectional= False , num_layers = 1)\n",
    "        self.gru2 = nn.GRU(32, 32, batch_first = True)\n",
    "        self.flat = nn.Flatten()\n",
    "        self.dense = nn.Linear(32, 1)\n",
    "\n",
    "    def forward(self, x):\n",
    "       out1, out2 = self.gru1(x)\n",
    "       out1, out2 = self.gru2(out1)\n",
    "       out = self.flat(out2.squeeze())\n",
    "       out = self.dense(out)\n",
    "\n",
    "       return out"
   ]
  },
  {
   "cell_type": "code",
   "execution_count": 17,
   "metadata": {},
   "outputs": [],
   "source": [
    "rnn1 = RNN1()\n"
   ]
  },
  {
   "cell_type": "code",
   "execution_count": 18,
   "metadata": {},
   "outputs": [],
   "source": [
    "class CNN1(nn.Module):\n",
    "    def __init__(self):\n",
    "        super(CNN1, self).__init__()\n",
    "        self.conv1 = nn.Conv1d(4, 64, kernel_size=7)  # Input channels = 4 (from features), output channels = 64\n",
    "        self.max_pool1 = nn.MaxPool1d(kernel_size=5)  \n",
    "        self.conv2 = nn.Conv1d(64, 128, kernel_size=5)  # Second conv layer\n",
    "        self.max_pool2 = nn.MaxPool1d(kernel_size=5) \n",
    "\n",
    "        self.gru1 = nn.GRU(128, 64, batch_first=True, bidirectional=False, num_layers=1)  # Input size = 128 (CNN output channels)\n",
    "        self.gru2 = nn.GRU(64, 32, batch_first=True)\n",
    "\n",
    "        self.flat = nn.Flatten()\n",
    "        self.dense = nn.Linear(32, 1)  # Output a single value (regression)\n",
    "\n",
    "    def forward(self, x):\n",
    "        # CNN layers\n",
    "        x = x.permute(0, 2, 1)  # Change shape to (batch_size, channels, seq_len) for Conv1d\n",
    "        x = self.conv1(x)\n",
    "        x = F.relu(x)\n",
    "        x = self.max_pool1(x)\n",
    "        x = self.conv2(x)\n",
    "        x = F.relu(x)\n",
    "        x = self.max_pool2(x)\n",
    "\n",
    "        # GRU layers\n",
    "        x = x.permute(0, 2, 1)  # Change shape back to (batch_size, seq_len, input_size) for GRU\n",
    "        out1, _ = self.gru1(x)\n",
    "        _, out2 = self.gru2(out1)\n",
    "\n",
    "        # Flatten and Dense layer\n",
    "        # out = self.flat(out2[:, -1, :])  # Use the last GRU output\n",
    "        # out = self.dense(out)\n",
    "        out = self.flat(out2.squeeze())\n",
    "        out = self.dense(out)\n",
    "\n",
    "        return out\n"
   ]
  },
  {
   "cell_type": "code",
   "execution_count": 19,
   "metadata": {},
   "outputs": [],
   "source": [
    "model = CNN1()"
   ]
  },
  {
   "cell_type": "code",
   "execution_count": 20,
   "metadata": {},
   "outputs": [],
   "source": [
    "loss_function = nn.MSELoss()\n",
    "optimizer = torch.optim.Adam(model.parameters(), lr=0.001)\n"
   ]
  },
  {
   "cell_type": "markdown",
   "metadata": {},
   "source": [
    "## Training using the CNN with RNN model"
   ]
  },
  {
   "cell_type": "code",
   "execution_count": 50,
   "metadata": {},
   "outputs": [
    {
     "name": "stdout",
     "output_type": "stream",
     "text": [
      "Epoch 1, Loss: 0.0021\n",
      "Epoch 2, Loss: 0.0020\n",
      "Epoch 3, Loss: 0.0020\n",
      "Epoch 4, Loss: 0.0021\n",
      "Epoch 5, Loss: 0.0020\n",
      "Epoch 6, Loss: 0.0020\n",
      "Epoch 7, Loss: 0.0021\n",
      "Epoch 8, Loss: 0.0022\n",
      "Epoch 9, Loss: 0.0021\n",
      "Epoch 10, Loss: 0.0022\n"
     ]
    }
   ],
   "source": [
    "num_epochs = 10\n",
    "steps_per_epoch = 40  # Number of batches to process in each epoch\n",
    "for epoch in range(num_epochs):\n",
    "    model.train()\n",
    "    running_loss = 0.0\n",
    "    for idx, (samples, targets) in enumerate(Train_loader):\n",
    "        if idx == steps_per_epoch:\n",
    "            break  # Stop after processing 40 batches\n",
    "        optimizer.zero_grad()  # Reset gradients\n",
    "        predictions = model(samples)  # Forward pass\n",
    "        loss = loss_function(predictions, targets)  # Compute loss\n",
    "        loss.backward()  # Backpropagation\n",
    "        optimizer.step()  # Update weights\n",
    "        running_loss += loss.item()\n",
    "    print(f\"Epoch {epoch+1}, Loss: {running_loss / steps_per_epoch:.4f}\")\n"
   ]
  },
  {
   "cell_type": "markdown",
   "metadata": {},
   "source": [
    "## Tarining using the RNN model"
   ]
  },
  {
   "cell_type": "code",
   "execution_count": 23,
   "metadata": {},
   "outputs": [
    {
     "name": "stderr",
     "output_type": "stream",
     "text": [
      "c:\\Users\\laboh\\anaconda3\\Lib\\site-packages\\torch\\nn\\modules\\loss.py:608: UserWarning: Using a target size (torch.Size([32])) that is different to the input size (torch.Size([32, 1])). This will likely lead to incorrect results due to broadcasting. Please ensure they have the same size.\n",
      "  return F.mse_loss(input, target, reduction=self.reduction)\n"
     ]
    },
    {
     "name": "stdout",
     "output_type": "stream",
     "text": [
      "Epoch 1, Loss: 0.0580\n",
      "Epoch 2, Loss: 0.0577\n",
      "Epoch 3, Loss: 0.0581\n",
      "Epoch 4, Loss: 0.0575\n",
      "Epoch 5, Loss: 0.0583\n",
      "Epoch 6, Loss: 0.0590\n",
      "Epoch 7, Loss: 0.0579\n",
      "Epoch 8, Loss: 0.0581\n",
      "Epoch 9, Loss: 0.0591\n",
      "Epoch 10, Loss: 0.0577\n"
     ]
    }
   ],
   "source": [
    "num_epochs = 10\n",
    "steps_per_epoch = 40  # Number of batches to process in each epoch\n",
    "for epoch in range(num_epochs):\n",
    "    model.train()\n",
    "    running_loss = 0.0\n",
    "    for idx, (samples, targets) in enumerate(Train_loader):\n",
    "        if idx == steps_per_epoch:\n",
    "            break  # Stop after processing 40 batches\n",
    "        optimizer.zero_grad()  # Reset gradients\n",
    "        predictions = rnn1(samples)  # Forward pass\n",
    "        loss = loss_function(predictions, targets)  # Compute loss\n",
    "        loss.backward()  # Backpropagation\n",
    "        optimizer.step()  # Update weights\n",
    "        running_loss += loss.item()\n",
    "    print(f\"Epoch {epoch+1}, Loss: {running_loss / steps_per_epoch:.4f}\")\n"
   ]
  },
  {
   "cell_type": "code",
   "execution_count": null,
   "metadata": {},
   "outputs": [],
   "source": []
  }
 ],
 "metadata": {
  "kernelspec": {
   "display_name": "base",
   "language": "python",
   "name": "python3"
  },
  "language_info": {
   "codemirror_mode": {
    "name": "ipython",
    "version": 3
   },
   "file_extension": ".py",
   "mimetype": "text/x-python",
   "name": "python",
   "nbconvert_exporter": "python",
   "pygments_lexer": "ipython3",
   "version": "3.12.7"
  }
 },
 "nbformat": 4,
 "nbformat_minor": 2
}
